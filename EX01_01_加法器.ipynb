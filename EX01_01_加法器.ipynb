{
  "nbformat": 4,
  "nbformat_minor": 0,
  "metadata": {
    "colab": {
      "provenance": [],
      "authorship_tag": "ABX9TyO+4RqJUkn26SLfnib4pwMd",
      "include_colab_link": true
    },
    "kernelspec": {
      "name": "python3",
      "display_name": "Python 3"
    },
    "language_info": {
      "name": "python"
    }
  },
  "cells": [
    {
      "cell_type": "markdown",
      "metadata": {
        "id": "view-in-github",
        "colab_type": "text"
      },
      "source": [
        "<a href=\"https://colab.research.google.com/github/jtwya/AOP/blob/main/EX01_01_%E5%8A%A0%E6%B3%95%E5%99%A8.ipynb\" target=\"_parent\"><img src=\"https://colab.research.google.com/assets/colab-badge.svg\" alt=\"Open In Colab\"/></a>"
      ]
    },
    {
      "cell_type": "code",
      "execution_count": 3,
      "metadata": {
        "colab": {
          "base_uri": "https://localhost:8080/"
        },
        "id": "LJtMEmXSEHp0",
        "outputId": "13919030-76ec-49a1-ecb6-5294b4bc8b27"
      },
      "outputs": [
        {
          "output_type": "stream",
          "name": "stdout",
          "text": [
            "請輸入第一個整數: 3\n",
            "請輸入第二個整數: 5\n",
            "total =  8\n"
          ]
        }
      ],
      "source": [
        "# 取得第一個整數\n",
        "num_1 = int(input(\"請輸入第一個整數: \"))\n",
        "# 取得第二個整數\n",
        "num_2 = int(input(\"請輸入第二個整數: \"))\n",
        "# 兩整數相加\n",
        "total = num_1 + num_2\n",
        "# 輸出結果\n",
        "print('total = ',total)"
      ]
    }
  ]
}