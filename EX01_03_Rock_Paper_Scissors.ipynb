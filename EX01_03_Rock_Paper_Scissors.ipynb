{
  "nbformat": 4,
  "nbformat_minor": 0,
  "metadata": {
    "colab": {
      "provenance": [],
      "authorship_tag": "ABX9TyM8BPN6zjb39dAvIgwEg8lQ",
      "include_colab_link": true
    },
    "kernelspec": {
      "name": "python3",
      "display_name": "Python 3"
    },
    "language_info": {
      "name": "python"
    }
  },
  "cells": [
    {
      "cell_type": "markdown",
      "metadata": {
        "id": "view-in-github",
        "colab_type": "text"
      },
      "source": [
        "<a href=\"https://colab.research.google.com/github/jtwya/AOP/blob/main/EX01_03_Rock_Paper_Scissors.ipynb\" target=\"_parent\"><img src=\"https://colab.research.google.com/assets/colab-badge.svg\" alt=\"Open In Colab\"/></a>"
      ]
    },
    {
      "cell_type": "code",
      "execution_count": 3,
      "metadata": {
        "colab": {
          "base_uri": "https://localhost:8080/"
        },
        "id": "U0Ch0-GhRncz",
        "outputId": "51fb0ebd-b13f-4362-f460-24ea6d98565d"
      },
      "outputs": [
        {
          "output_type": "stream",
          "name": "stdout",
          "text": [
            "請輸入0 、2、5 (0:石頭 2:剪刀 5:布)5\n",
            "computer:  2\n",
            "你輸了\n"
          ]
        }
      ],
      "source": [
        "import random\n",
        "# 輸入一整數 (人:出拳, 0:石頭 2:剪刀 5:布)\n",
        "player = int (input(\"請輸入0 、2、5 (0:石頭 2:剪刀 5:布)\"))\n",
        "# 電腦出拳\n",
        "cmp = random.choice([0, 2, 5])\n",
        "# 顯示電腦出的拳\n",
        "print('computer: ',cmp)\n",
        "# 決定輸贏\n",
        "if player == cmp:\n",
        "    print('平手')\n",
        "elif (player == 0 and cmp == 2) or (player == 2 and cmp == 5) or (player == 5 and cmp == 0):\n",
        "    print('你贏了')\n",
        "else:\n",
        "    print('你輸了')"
      ]
    }
  ]
}