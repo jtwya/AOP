{
  "nbformat": 4,
  "nbformat_minor": 0,
  "metadata": {
    "colab": {
      "provenance": [],
      "authorship_tag": "ABX9TyNxLBHH7EIgomNQp3uL25qr",
      "include_colab_link": true
    },
    "kernelspec": {
      "name": "python3",
      "display_name": "Python 3"
    },
    "language_info": {
      "name": "python"
    }
  },
  "cells": [
    {
      "cell_type": "markdown",
      "metadata": {
        "id": "view-in-github",
        "colab_type": "text"
      },
      "source": [
        "<a href=\"https://colab.research.google.com/github/jtwya/AOP/blob/main/EX02_05_PTT_Gossiping.ipynb\" target=\"_parent\"><img src=\"https://colab.research.google.com/assets/colab-badge.svg\" alt=\"Open In Colab\"/></a>"
      ]
    },
    {
      "cell_type": "code",
      "execution_count": 17,
      "metadata": {
        "colab": {
          "base_uri": "https://localhost:8080/"
        },
        "id": "-9H4jeOJ0CUg",
        "outputId": "3d4bb134-cdeb-469f-a2eb-726ff5a2b4a6"
      },
      "outputs": [
        {
          "output_type": "execute_result",
          "data": {
            "text/plain": [
              "200"
            ]
          },
          "metadata": {},
          "execution_count": 17
        }
      ],
      "source": [
        "#爬取 5 頁 PTT 八卦版的文章日期、網址、標題\n",
        "import requests\n",
        "from bs4 import BeautifulSoup\n",
        "url = 'https://www.ptt.cc/bbs/Gossiping/index.html'\n",
        "response = requests.get(url)\n",
        "response.status_code"
      ]
    },
    {
      "cell_type": "code",
      "source": [
        "def get_articles(url):\n",
        "  response = requests.get(url)\n",
        "  soup = BeautifulSoup(response.text,'lxml')\n",
        "  for atcl in soup.find_all('div',class_='r-ent'):\n",
        "    if atcl.find('div',class_='title').a:\n",
        "      ttle = atcl.find('div',class_='title').a.text\n",
        "      href = 'https://www.ptt.cc' + atcl.find('div',class_='title').a.get('href')\n",
        "      date = atcl.find('div',class_='date').text\n",
        "      print(date,ttle,href)\n",
        "    else:\n",
        "      ttle = atcl.find('div',class_='title').text.strip()\n",
        "      href = ''\n",
        "      date = atcl.find('div',class_='date').text\n",
        "      print(date,ttle,href)\n",
        "  url = 'https://www.ptt.cc' + soup.find_all('a',class_='btn wide')[1].get('href')\n",
        "  return url\n",
        "\n",
        "url = 'https://www.ptt.cc/bbs/Gossiping/index.html'\n",
        "for i in range(5):\n",
        "  url = get_articles(url)"
      ],
      "metadata": {
        "colab": {
          "base_uri": "https://localhost:8080/"
        },
        "id": "10Ka-q_-5EKC",
        "outputId": "28a3bd99-2157-47cf-ed74-2bdf5bf4569a"
      },
      "execution_count": 20,
      "outputs": [
        {
          "output_type": "stream",
          "name": "stdout",
          "text": [
            " 3/26 [問卦] Rose'跟李珠珢選一個當女朋友要怎麼選 https://www.ptt.cc/bbs/Gossiping/M.1743004773.A.465.html\n",
            " 3/26 [新聞] 鍾明軒喊出國沒人知道Taiwanese　阿滴用 https://www.ptt.cc/bbs/Gossiping/M.1743004775.A.B79.html\n",
            " 3/27 [新聞] 黃子佼高院首開庭又穿這件藍上衣！被問「是否 https://www.ptt.cc/bbs/Gossiping/M.1743004881.A.E49.html\n",
            " 3/27 [問卦] 中國網友四千留言在呼喚小微回家 https://www.ptt.cc/bbs/Gossiping/M.1743004887.A.D60.html\n",
            " 3/27 Re: [問卦] 鐘明軒說國外很少人知道Taiwanese https://www.ptt.cc/bbs/Gossiping/M.1743004933.A.4BB.html\n",
            " 3/27 [新聞] 曾國城喊冤：真的沒力挺黃子佼！3／11《 https://www.ptt.cc/bbs/Gossiping/M.1743004960.A.D85.html\n",
            " 3/27 Re: [新聞] 黃子佼部分認罪求改判　被害人要他拿2千 https://www.ptt.cc/bbs/Gossiping/M.1743005022.A.B53.html\n",
            "11/02 Fw: [公告] 請留意新註冊帳號使用信件詐騙 https://www.ptt.cc/bbs/Gossiping/M.1730554547.A.41C.html\n",
            " 1/21 [公告] 八卦板板規(2025.01.21) https://www.ptt.cc/bbs/Gossiping/M.1737398137.A.644.html\n",
            " 2/20 [公告]  春季大反攻！！八卦板主徵選報名開始捏 https://www.ptt.cc/bbs/Gossiping/M.1740024219.A.1EB.html\n",
            " 3/12 Fw: [公告] 請避免與登入1次之帳號進行交易 發錢 https://www.ptt.cc/bbs/Gossiping/M.1741791500.A.EB6.html\n",
            " 3/26 [問卦] 日本高速公路收費怎麼那麼爛 https://www.ptt.cc/bbs/Gossiping/M.1743003461.A.B0D.html\n",
            " 3/26 [問卦] 只有我怕戰爭？ https://www.ptt.cc/bbs/Gossiping/M.1743003464.A.B47.html\n",
            " 3/26 [問卦] 學妹說她心裡有位白月光 https://www.ptt.cc/bbs/Gossiping/M.1743003536.A.942.html\n",
            " 3/26 Re: [問卦] 勞工為什麼會越活越慘？？？ https://www.ptt.cc/bbs/Gossiping/M.1743003669.A.711.html\n",
            " 3/26 [問卦] 為什麼國軍剿共剿十年還剿不完 https://www.ptt.cc/bbs/Gossiping/M.1743003694.A.818.html\n",
            " 3/26 [新聞] 自製「人民是頭家」限量頭巾 卓冠廷喊話 https://www.ptt.cc/bbs/Gossiping/M.1743003742.A.B02.html\n",
            " 3/26 [問卦] 喇叭是不是被動式的比較好?主動的不好? https://www.ptt.cc/bbs/Gossiping/M.1743003879.A.41A.html\n",
            " 3/26 [問卦] 陳冠希比劉德華、吳彥祖帥？！ https://www.ptt.cc/bbs/Gossiping/M.1743003917.A.CC0.html\n",
            " 3/26 [問卦] 淘寶包包品質也很好是不是 https://www.ptt.cc/bbs/Gossiping/M.1743003970.A.E9E.html\n",
            " 3/26 [新聞] 黃子佼部分認罪求改判　被害人要他拿2千 https://www.ptt.cc/bbs/Gossiping/M.1743004156.A.175.html\n",
            " 3/26 [新聞] MLB》大谷翔平宴請全隊　總教練：去年大概不會 https://www.ptt.cc/bbs/Gossiping/M.1743004187.A.1F0.html\n",
            " 3/26 [新聞] 支持罷藍委升溫！徐巧芯最危險　學者： https://www.ptt.cc/bbs/Gossiping/M.1743004219.A.E1D.html\n",
            " 3/26 [新聞] 「大翅鯨」現蹤台東外海　單日出現4隻創 https://www.ptt.cc/bbs/Gossiping/M.1743004363.A.F37.html\n",
            " 3/26 (本文已被刪除) [hotandhard] \n",
            " 3/26 Re: [問卦] 覺得金峰滷肉飯好吃的都哪種人 https://www.ptt.cc/bbs/Gossiping/M.1743004449.A.2D6.html\n",
            " 3/26 [問卦] 歐內該 挖搭西 是什麼意思 https://www.ptt.cc/bbs/Gossiping/M.1743004509.A.D04.html\n",
            " 3/26 Re: [問卦] 為什麼國軍剿共剿十年還剿不完 https://www.ptt.cc/bbs/Gossiping/M.1743004519.A.0FB.html\n",
            " 3/26 [問卦]知道戰爭開始的當下 會做甚麼? https://www.ptt.cc/bbs/Gossiping/M.1743004523.A.D18.html\n",
            " 3/26 [新聞] 洛杉磯加大研究示警 嚼口香糖小心直接吃 https://www.ptt.cc/bbs/Gossiping/M.1743004576.A.6CF.html\n",
            " 3/26 [問卦] 群創怎麼了一堆人發畢業文 https://www.ptt.cc/bbs/Gossiping/M.1743004587.A.BC5.html\n",
            " 3/26 Re: [問卦] 笑死，中國網友舉發第四個陸配 https://www.ptt.cc/bbs/Gossiping/M.1743002540.A.362.html\n",
            " 3/26 [新聞] 驚悚！12歲男童撿風箏觸電　身體「電到冒 https://www.ptt.cc/bbs/Gossiping/M.1743002546.A.714.html\n",
            " 3/26 Re: [新聞] 曾國城發聲爆自己真病了　沒挺黃子佼希望 https://www.ptt.cc/bbs/Gossiping/M.1743002589.A.C92.html\n",
            " 3/26 [問卦] FB 看到有人列黃子佼持有的影片清單？ https://www.ptt.cc/bbs/Gossiping/M.1743002670.A.BE2.html\n",
            " 3/26 [新聞] YUMA離婚後首發片！ 開新頻道「掰了66萬 https://www.ptt.cc/bbs/Gossiping/M.1743002674.A.42E.html\n",
            " 3/26 Re: [新聞] 日本「台灣有事」應變計劃曝 撤12萬民眾 https://www.ptt.cc/bbs/Gossiping/M.1743002763.A.C9E.html\n",
            " 3/26 [問卦] 大家知道霸氣有進階用法嗎？ https://www.ptt.cc/bbs/Gossiping/M.1743002785.A.384.html\n",
            " 3/26 [問卦] 覺得龍華市場小籠包好吃的都哪種人 https://www.ptt.cc/bbs/Gossiping/M.1743002808.A.EE6.html\n",
            " 3/26 [問卦] 陳冠希為何選擇自然老化不醫美的？ https://www.ptt.cc/bbs/Gossiping/M.1743002841.A.A8A.html\n",
            " 3/26 [問卦] 一部鑽油工人拯救全世界的影片？ https://www.ptt.cc/bbs/Gossiping/M.1743002979.A.D1E.html\n",
            " 3/26 Re: [問卦] 勞工為什麼會越活越慘？？？ https://www.ptt.cc/bbs/Gossiping/M.1743003049.A.CB0.html\n",
            " 3/26 [問卦] 去韓國做近視雷射的人怎麼變多了 https://www.ptt.cc/bbs/Gossiping/M.1743003123.A.AE5.html\n",
            " 3/26 Re: [問卦] 如果大陸是假想敵 為什麼還要讓陸生來臺 https://www.ptt.cc/bbs/Gossiping/M.1743003162.A.F67.html\n",
            " 3/26 [新聞] 川普政府「群組洩軍機」又見震撼彈！美媒 https://www.ptt.cc/bbs/Gossiping/M.1743003181.A.D97.html\n",
            " 3/26 [問卦] 男宿淋浴間會拆掉蓮蓬頭的都什麼人？ https://www.ptt.cc/bbs/Gossiping/M.1743003281.A.F1E.html\n",
            " 3/26 [新聞] 印度推半導體計畫 與台灣簽高教交流MOU https://www.ptt.cc/bbs/Gossiping/M.1743003308.A.65C.html\n",
            " 3/26 [新聞] 行政院擬設三級獨立機關個資會　公務機 https://www.ptt.cc/bbs/Gossiping/M.1743003362.A.0D5.html\n",
            " 3/26 [問卦] Emiru是最頂的歐美女實況主嗎 https://www.ptt.cc/bbs/Gossiping/M.1743003391.A.344.html\n",
            " 3/26 Re: [問卦] 黃子佼是不是該化學去勢 https://www.ptt.cc/bbs/Gossiping/M.1743003407.A.C8D.html\n",
            " 3/26 [新聞] 混血妞見台水溝蓋上滿是菸蒂揭台日差別 https://www.ptt.cc/bbs/Gossiping/M.1743003460.A.308.html\n",
            " 3/26 [問卦] 手腳慢適合什麼工作阿 https://www.ptt.cc/bbs/Gossiping/M.1743001559.A.9E7.html\n",
            " 3/26 [問卦] 亞洲最帥現在還是金城武嗎 https://www.ptt.cc/bbs/Gossiping/M.1743001587.A.E44.html\n",
            " 3/26 [問卦] 台獨份子取暖區 請+1 https://www.ptt.cc/bbs/Gossiping/M.1743001607.A.957.html\n",
            " 3/26 Re: [新聞] 日本「台灣有事」應變計劃曝 撤12萬民眾 https://www.ptt.cc/bbs/Gossiping/M.1743001633.A.E6A.html\n",
            " 3/26 Re: [問卦] 如果大陸是假想敵 為什麼還要讓陸生來臺 https://www.ptt.cc/bbs/Gossiping/M.1743001647.A.C9E.html\n",
            " 3/26 [問卦] 我做的健康宵夜有及格嗎☺   https://www.ptt.cc/bbs/Gossiping/M.1743001751.A.9BA.html\n",
            " 3/26 [問卦] 台獨和武統哪裡不一樣? https://www.ptt.cc/bbs/Gossiping/M.1743001761.A.81E.html\n",
            " 3/26 Re: [新聞] 遭爆外遇生子！台大感染科權威黃立民喊不 https://www.ptt.cc/bbs/Gossiping/M.1743001768.A.BB9.html\n",
            " 3/26 [問卦] 怎會有人想娶那個陸配小微呀？ https://www.ptt.cc/bbs/Gossiping/M.1743001777.A.4F8.html\n",
            " 3/26 [問卦] 韓國野火 為什麼多地齊發? https://www.ptt.cc/bbs/Gossiping/M.1743001925.A.728.html\n",
            " 3/26 [問卦] 你幾歲放棄了夢想？ https://www.ptt.cc/bbs/Gossiping/M.1743001935.A.FBD.html\n",
            " 3/26 [問卦] 勞工為什麼會越活越慘？？？ https://www.ptt.cc/bbs/Gossiping/M.1743002005.A.512.html\n",
            " 3/26 [問卦] 波蘭能抗俄兩週，台灣能抗中多久 https://www.ptt.cc/bbs/Gossiping/M.1743002013.A.E3D.html\n",
            " 3/26 [問卦] 從前老東京那條山手線 像一齣懷舊的默片 https://www.ptt.cc/bbs/Gossiping/M.1743002076.A.C23.html\n",
            " 3/26 [問卦] 寶傑一走 關鍵時刻名嘴都轉彎了喔 https://www.ptt.cc/bbs/Gossiping/M.1743002082.A.C8E.html\n",
            " 3/26 [問卦] 紅綠燈閃一下 https://www.ptt.cc/bbs/Gossiping/M.1743002175.A.09F.html\n",
            " 3/26 [問卦] 中華民國這次還能撤退到哪裡啊〓〓 https://www.ptt.cc/bbs/Gossiping/M.1743002177.A.135.html\n",
            " 3/26 [問卦] 覺得前金滷肉飯好吃的都哪種人 https://www.ptt.cc/bbs/Gossiping/M.1743002286.A.F64.html\n",
            " 3/26 Re: [問卦] 勞工為什麼會越活越慘？？？ https://www.ptt.cc/bbs/Gossiping/M.1743002389.A.3E9.html\n",
            " 3/26 [新聞] 落實個資保護 行政院明拍板「個資委員會 https://www.ptt.cc/bbs/Gossiping/M.1743002454.A.E3F.html\n",
            " 3/26 [新聞] 蔣萬安被問摸彩護航反罷？王鴻薇打斷「 https://www.ptt.cc/bbs/Gossiping/M.1743000321.A.E11.html\n",
            " 3/26 Re: [新聞] 幫信徒集體配婚　東京法院勒令解散統一教 https://www.ptt.cc/bbs/Gossiping/M.1743000344.A.DD4.html\n",
            " 3/26 [問卦] 看到八卦挺曾挺佼有看過判決書嗎？ https://www.ptt.cc/bbs/Gossiping/M.1743000349.A.D13.html\n",
            " 3/26 [問卦] 張伯倫的身體素質在NBA排名第幾？ https://www.ptt.cc/bbs/Gossiping/M.1743000399.A.199.html\n",
            " 3/26 [問卦] 開放讓國民黨回歸祖國 https://www.ptt.cc/bbs/Gossiping/M.1743000489.A.896.html\n",
            " 3/26 [問卦] newjeans是kpop史上最顧人怨女團嗎？ https://www.ptt.cc/bbs/Gossiping/M.1743000535.A.FD0.html\n",
            " 3/26 [新聞] 彰化火車站天橋男女街友蓋被放閃？ 網： https://www.ptt.cc/bbs/Gossiping/M.1743000566.A.9E3.html\n",
            " 3/26 Re: [新聞] 檢察官林俊言衝醫院找沈慶京「視察」　法 https://www.ptt.cc/bbs/Gossiping/M.1743000624.A.90A.html\n",
            " 3/26 [問卦] 黃子佼是不是該化學去勢 https://www.ptt.cc/bbs/Gossiping/M.1743000714.A.4E9.html\n",
            " 3/26 Re: [問卦] 「消防員」是什麼很賤的一群人嗎？ https://www.ptt.cc/bbs/Gossiping/M.1743000717.A.DDC.html\n",
            " 3/26 [問卦] 2027？ 2026？ 2025？ https://www.ptt.cc/bbs/Gossiping/M.1743000932.A.AE6.html\n",
            " 3/26 Re: [新聞] 日本「台灣有事」應變計劃曝 撤12萬民眾 https://www.ptt.cc/bbs/Gossiping/M.1743001014.A.499.html\n",
            " 3/26 [問卦] 黃子佼怎不去中國發展〓〓？ https://www.ptt.cc/bbs/Gossiping/M.1743001049.A.CF0.html\n",
            " 3/26 [問卦] 如果壽命可以販售 你會賣嗎? https://www.ptt.cc/bbs/Gossiping/M.1743001082.A.E6E.html\n",
            " 3/26 [問卦] 創意x房抓最大咖就一個黃子交嗎？ https://www.ptt.cc/bbs/Gossiping/M.1743001129.A.48A.html\n",
            " 3/26 [問卦] 伍佰後期的歌知名度怎麼沒早期高 https://www.ptt.cc/bbs/Gossiping/M.1743001246.A.54D.html\n",
            " 3/26 [問卦] 如果大陸是假想敵 為什麼還要讓陸生來臺 https://www.ptt.cc/bbs/Gossiping/M.1743001270.A.5B6.html\n",
            " 3/26 [新聞] 苗栗縣1人長期占8公眾車位　鍾東錦下令查 https://www.ptt.cc/bbs/Gossiping/M.1743001338.A.817.html\n",
            " 3/26 Re: [問卦] 康師傅真的是被抵制到倒的嗎？ https://www.ptt.cc/bbs/Gossiping/M.1743001452.A.32F.html\n",
            " 3/26 [新聞] 吃到ㄎ一ㄤ了？ 日本玳瑁貓獨特「嗑草」 https://www.ptt.cc/bbs/Gossiping/M.1743001541.A.576.html\n"
          ]
        }
      ]
    }
  ]
}