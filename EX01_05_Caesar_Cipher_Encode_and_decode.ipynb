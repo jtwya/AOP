{
  "nbformat": 4,
  "nbformat_minor": 0,
  "metadata": {
    "colab": {
      "provenance": [],
      "authorship_tag": "ABX9TyO19nls3SJE5zh1ORdXn0vT",
      "include_colab_link": true
    },
    "kernelspec": {
      "name": "python3",
      "display_name": "Python 3"
    },
    "language_info": {
      "name": "python"
    }
  },
  "cells": [
    {
      "cell_type": "markdown",
      "metadata": {
        "id": "view-in-github",
        "colab_type": "text"
      },
      "source": [
        "<a href=\"https://colab.research.google.com/github/jtwya/AOP/blob/main/EX01_05_Caesar_Cipher_Encode_and_decode.ipynb\" target=\"_parent\"><img src=\"https://colab.research.google.com/assets/colab-badge.svg\" alt=\"Open In Colab\"/></a>"
      ]
    },
    {
      "cell_type": "code",
      "execution_count": 4,
      "metadata": {
        "colab": {
          "base_uri": "https://localhost:8080/"
        },
        "id": "Q3BYtKkS9sU0",
        "outputId": "7904dcd0-70b1-4f7d-ed12-3d46bc8e3c68"
      },
      "outputs": [
        {
          "output_type": "stream",
          "name": "stdout",
          "text": [
            "加密 or 解密 以及金鑰d8\n",
            "想要加解密的文字you had me at hello.\n",
            "w}(pil(um(i|(pmttw6\n"
          ]
        }
      ],
      "source": [
        "# 輸入加解密以及金鑰 (加密:e 解密:d 金鑰:整數, Ex:d7)\n",
        "act = input('加密 or 解密 以及金鑰')\n",
        "txt = input('想要加解密的文字')\n",
        "act_type = [0]\n",
        "key = int(act[1:])\n",
        "ntxt = ''\n",
        "if act_type == 'd':\n",
        "  for c in txt:\n",
        "    # 將文字轉換為編號\n",
        "    nc = ord(c) - key\n",
        "    # 將新編號轉為文字\n",
        "    ntxt += chr(nc)\n",
        "else:\n",
        "  for c in txt:\n",
        "    # 將文字轉換為編號\n",
        "    nc = ord(c) + key\n",
        "    # 將新編號轉為文字\n",
        "    ntxt += chr(nc)\n",
        "print(ntxt)"
      ]
    }
  ]
}