{
  "nbformat": 4,
  "nbformat_minor": 0,
  "metadata": {
    "colab": {
      "provenance": [],
      "authorship_tag": "ABX9TyPbhds479hogldagcZCM0Bs",
      "include_colab_link": true
    },
    "kernelspec": {
      "name": "python3",
      "display_name": "Python 3"
    },
    "language_info": {
      "name": "python"
    }
  },
  "cells": [
    {
      "cell_type": "markdown",
      "metadata": {
        "id": "view-in-github",
        "colab_type": "text"
      },
      "source": [
        "<a href=\"https://colab.research.google.com/github/jtwya/AOP/blob/main/EX02_03_Yahoo_%E6%96%B0%E8%81%9E%E5%84%B2%E5%AD%98_Google_%E8%A9%A6%E7%AE%97%E8%A1%A8.ipynb\" target=\"_parent\"><img src=\"https://colab.research.google.com/assets/colab-badge.svg\" alt=\"Open In Colab\"/></a>"
      ]
    },
    {
      "cell_type": "code",
      "execution_count": 1,
      "metadata": {
        "id": "MIffJ2qJ2gIQ",
        "colab": {
          "base_uri": "https://localhost:8080/"
        },
        "outputId": "ce638573-8462-4254-9efd-2570a89a4932"
      },
      "outputs": [
        {
          "output_type": "stream",
          "name": "stdout",
          "text": [
            "Collecting feedparser\n",
            "  Downloading feedparser-6.0.11-py3-none-any.whl.metadata (2.4 kB)\n",
            "Collecting sgmllib3k (from feedparser)\n",
            "  Downloading sgmllib3k-1.0.0.tar.gz (5.8 kB)\n",
            "  Preparing metadata (setup.py) ... \u001b[?25l\u001b[?25hdone\n",
            "Downloading feedparser-6.0.11-py3-none-any.whl (81 kB)\n",
            "\u001b[2K   \u001b[90m━━━━━━━━━━━━━━━━━━━━━━━━━━━━━━━━━━━━━━━━\u001b[0m \u001b[32m81.3/81.3 kB\u001b[0m \u001b[31m1.4 MB/s\u001b[0m eta \u001b[36m0:00:00\u001b[0m\n",
            "\u001b[?25hBuilding wheels for collected packages: sgmllib3k\n",
            "  Building wheel for sgmllib3k (setup.py) ... \u001b[?25l\u001b[?25hdone\n",
            "  Created wheel for sgmllib3k: filename=sgmllib3k-1.0.0-py3-none-any.whl size=6047 sha256=a485f9f0dfe8f495949ee1403c2992c160a7899318c93e3b1fb52f6337221129\n",
            "  Stored in directory: /root/.cache/pip/wheels/3b/25/2a/105d6a15df6914f4d15047691c6c28f9052cc1173e40285d03\n",
            "Successfully built sgmllib3k\n",
            "Installing collected packages: sgmllib3k, feedparser\n",
            "Successfully installed feedparser-6.0.11 sgmllib3k-1.0.0\n"
          ]
        }
      ],
      "source": [
        "!pip install feedparser"
      ]
    },
    {
      "cell_type": "code",
      "source": [
        "import feedparser\n",
        "feed_url = \"https://tw.news.yahoo.com/rss\"\n",
        "feed_data = feedparser.parse(feed_url)\n",
        "for entry in feed_data.entries[:5]:\n",
        "    print(entry.title)\n",
        "    print(entry.summary)\n",
        "    print(entry.link)\n",
        "    print(\"---\")"
      ],
      "metadata": {
        "colab": {
          "base_uri": "https://localhost:8080/"
        },
        "id": "MgMp6JBX_Mcy",
        "outputId": "4546a33a-a447-4aa9-bd2c-e816cbe52168"
      },
      "execution_count": 2,
      "outputs": [
        {
          "output_type": "stream",
          "name": "stdout",
          "text": [
            "中午來開匯／同隻比特犬二度狂咬人　黃瀞瑩轟蔣萬安回應內容像「放假中」\n",
            "CNEWS匯流新聞網記者邱璽臣／台北報導 比特犬攻擊事件再度發生，造成社會輿論譁然，台北市政府的處理態度更引發外界質疑。民眾黨台北市議員黃瀞瑩今（18）日接受《CNEWS匯流新聞網》政論節目《中午來開匯》主持人黃光芹專訪，針對比特犬二度攻擊民眾案，台北市政府的動保政策、動保處執法、市長蔣萬安因應態度等表達看法。 同一名飼主、同一輛車、同一隻比特犬、同樣的跳窗...\n",
            "https://tw.news.yahoo.com/%E4%B8%AD%E5%8D%88%E4%BE%86%E9%96%8B%E5%8C%AF-%E5%90%8C%E9%9A%BB%E6%AF%94%E7%89%B9%E7%8A%AC%E4%BA%8C%E5%BA%A6%E7%8B%82%E5%92%AC%E4%BA%BA-%E9%BB%83%E7%80%9E%E7%91%A9%E8%BD%9F%E8%94%A3%E8%90%AC%E5%AE%89%E5%9B%9E%E6%87%89%E5%85%A7%E5%AE%B9%E5%83%8F-%E6%94%BE%E5%81%87%E4%B8%AD-063737834.html\n",
            "---\n",
            "嘉市新增1例麻疹境外移入確診病例　籲請足跡重疊者自主健康管理18天\n",
            "【記者 劉芳妃／嘉義市 報導】嘉義市新增1例境外移入麻疹確診病例，該病例曾於2月19至23日參加旅行團到越南旅\n",
            "https://tw.news.yahoo.com/%E5%98%89%E5%B8%82%E6%96%B0%E5%A2%9E1%E4%BE%8B%E9%BA%BB%E7%96%B9%E5%A2%83%E5%A4%96%E7%A7%BB%E5%85%A5%E7%A2%BA%E8%A8%BA%E7%97%85%E4%BE%8B-%E7%B1%B2%E8%AB%8B%E8%B6%B3%E8%B7%A1%E9%87%8D%E7%96%8A%E8%80%85%E8%87%AA%E4%B8%BB%E5%81%A5%E5%BA%B7%E7%AE%A1%E7%90%8618%E5%A4%A9-063635698.html\n",
            "---\n",
            "擋移民？路透、紐時爆料川普政府將實施嚴格旅遊限制、超過40個國家受影響　白宮、國務院回應了\n",
            "根據《路透社》和《紐約時報》的最新報導，美國政府正考慮對超過40個國家實施嚴格的旅遊限制，甚至可能全面禁止部分國家公民入境美國。此消息一出...\n",
            "https://tw.news.yahoo.com/%E6%93%8B%E7%A7%BB%E6%B0%91-%E8%B7%AF%E9%80%8F-%E7%B4%90%E6%99%82%E7%88%86%E6%96%99%E5%B7%9D%E6%99%AE%E6%94%BF%E5%BA%9C%E5%B0%87%E5%AF%A6%E6%96%BD%E5%9A%B4%E6%A0%BC%E6%97%85%E9%81%8A%E9%99%90%E5%88%B6-%E8%B6%85%E9%81%8E40%E5%80%8B%E5%9C%8B%E5%AE%B6%E5%8F%97%E5%BD%B1%E9%9F%BF-%E7%99%BD%E5%AE%AE-063626980.html\n",
            "---\n",
            "打詐影片偷渡罷免案？黃國昌揭政院標案「推罷樑」：國庫通黨庫來攻擊對手\n",
            "全台大罷免烽火四起，據中選會最新統計，共計35件立委罷免通過第一階段審查，全數為泛藍系立委。另外，近來雖政府力推打詐，但詐騙事件仍頻傳，...\n",
            "https://tw.news.yahoo.com/%E6%89%93%E8%A9%90%E5%BD%B1%E7%89%87%E5%81%B7%E6%B8%A1%E7%BD%B7%E5%85%8D%E6%A1%88-%E9%BB%83%E5%9C%8B%E6%98%8C%E6%8F%AD%E6%94%BF%E9%99%A2%E6%A8%99%E6%A1%88-%E6%8E%A8%E7%BD%B7%E6%A8%91-%E5%9C%8B%E5%BA%AB%E9%80%9A%E9%BB%A8%E5%BA%AB%E4%BE%86%E6%94%BB%E6%93%8A%E5%B0%8D%E6%89%8B-063611289.html\n",
            "---\n",
            "坦承預謀「殺害技術長」！雲云董座：後悔了\n",
            "雲云科技的董事長曾志新，這個月初(7日)，涉嫌持刀殺害同公司的梁姓技術長，犯案後也傷害自己，開刀、住院整整十天，沒想到一出院，就被拘捕，他向檢警坦承，這起殺人案是「預謀犯案」，事後相當後悔，檢方複訊後聲押禁見，台北地院預計下午2點開羈押庭。\n",
            "https://tw.news.yahoo.com/%E5%9D%A6%E6%89%BF%E9%A0%90%E8%AC%80-%E6%AE%BA%E5%AE%B3%E6%8A%80%E8%A1%93%E9%95%B7-%E9%9B%B2%E4%BA%91%E8%91%A3%E5%BA%A7-%E5%BE%8C%E6%82%94%E4%BA%86-034031088.html\n",
            "---\n"
          ]
        }
      ]
    },
    {
      "cell_type": "code",
      "source": [
        "# 引入相關模組\n",
        "from google.colab import auth\n",
        "from google.auth import default\n",
        "import gspread\n",
        "\n",
        "auth.authenticate_user() # 進行授權\n",
        "creds, _ = default() # 使用 default 方法獲取驗證信息\n",
        "gc = gspread.authorize(creds) # 使用 creds 變數授權 gspread 模組"
      ],
      "metadata": {
        "id": "magQWkbd_2Bv"
      },
      "execution_count": 3,
      "outputs": []
    },
    {
      "cell_type": "code",
      "source": [
        "# 開啟 Google 試算表\n",
        "url = 'https://docs.google.com/spreadsheets/d/1Tgw5jBnUHFVhSIl23pgK0RfzGEjkDvNEgqLW3ZLghi8/edit?usp=sharing'\n",
        "workbook = gc.open_by_url(url)\n",
        "# 獲取工作簿中索引為 0 的工作表，並將其儲存在 sheet 變數中\n",
        "sheet = workbook.get_worksheet(0)\n",
        "sheet.clear()\n",
        "# 新增一列資料\n",
        "sheet.append_row(['title','summary','link'])\n",
        "for entry in feed_data.entries:\n",
        "    sheet.append_row([entry.title,entry.summary,entry.link])"
      ],
      "metadata": {
        "id": "8XOrR7OzAKNv"
      },
      "execution_count": 9,
      "outputs": []
    }
  ]
}