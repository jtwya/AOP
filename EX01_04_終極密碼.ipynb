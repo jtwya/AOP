{
  "nbformat": 4,
  "nbformat_minor": 0,
  "metadata": {
    "colab": {
      "provenance": [],
      "authorship_tag": "ABX9TyO99sZlKGYWWwiS77QK6xmw",
      "include_colab_link": true
    },
    "kernelspec": {
      "name": "python3",
      "display_name": "Python 3"
    },
    "language_info": {
      "name": "python"
    }
  },
  "cells": [
    {
      "cell_type": "markdown",
      "metadata": {
        "id": "view-in-github",
        "colab_type": "text"
      },
      "source": [
        "<a href=\"https://colab.research.google.com/github/jtwya/AOP/blob/main/EX01_04_%E7%B5%82%E6%A5%B5%E5%AF%86%E7%A2%BC.ipynb\" target=\"_parent\"><img src=\"https://colab.research.google.com/assets/colab-badge.svg\" alt=\"Open In Colab\"/></a>"
      ]
    },
    {
      "cell_type": "code",
      "execution_count": 1,
      "metadata": {
        "colab": {
          "base_uri": "https://localhost:8080/"
        },
        "id": "SeQVUJHP3Ayn",
        "outputId": "7f945042-bfd4-4d32-c46f-33673a82cd39"
      },
      "outputs": [
        {
          "output_type": "stream",
          "name": "stdout",
          "text": [
            "0 - 100\n",
            "guess:50\n",
            "50 - 100\n",
            "guess:75\n",
            "50 - 75\n",
            "guess:60\n",
            "60 - 75\n",
            "guess:99\n",
            "out of range\n",
            "60 - 75\n",
            "guess:74\n",
            "60 - 74\n",
            "guess:66\n",
            "66 - 74\n",
            "guess:68\n",
            "68 - 74\n",
            "guess:80\n",
            "out of range\n",
            "68 - 74\n",
            "guess:70\n",
            "68 - 70\n",
            "guess:79\n",
            "out of range\n",
            "68 - 70\n",
            "guess:69\n",
            "bingo\n"
          ]
        }
      ],
      "source": [
        "# 產生 1 至 99 之間一個亂數\n",
        "import random\n",
        "bomb = random.randint(1,99)\n",
        "# 旗標法 - 定義邊界\n",
        "lf=0\n",
        "rt=100\n",
        "# 猜數字\n",
        "while True :\n",
        "  print(lf,'-',rt)\n",
        "  gu = int(input('guess:'))\n",
        "  # 超過範圍\n",
        "  if gu <= lf or gu >= rt :\n",
        "    print('out of range')\n",
        "  # 比炸彈小\n",
        "  elif gu < bomb :\n",
        "    lf = gu\n",
        "  # 比炸彈大\n",
        "  elif gu > bomb :\n",
        "    rt = gu\n",
        "  # 猜中\n",
        "  else :\n",
        "    print('bingo')\n",
        "    break"
      ]
    }
  ]
}