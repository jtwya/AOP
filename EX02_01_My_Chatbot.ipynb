{
  "nbformat": 4,
  "nbformat_minor": 0,
  "metadata": {
    "colab": {
      "provenance": [],
      "authorship_tag": "ABX9TyPegGyhI3DNUigtMZkstyyT",
      "include_colab_link": true
    },
    "kernelspec": {
      "name": "python3",
      "display_name": "Python 3"
    },
    "language_info": {
      "name": "python"
    }
  },
  "cells": [
    {
      "cell_type": "markdown",
      "metadata": {
        "id": "view-in-github",
        "colab_type": "text"
      },
      "source": [
        "<a href=\"https://colab.research.google.com/github/jtwya/AOP/blob/main/EX02_01_My_Chatbot.ipynb\" target=\"_parent\"><img src=\"https://colab.research.google.com/assets/colab-badge.svg\" alt=\"Open In Colab\"/></a>"
      ]
    },
    {
      "cell_type": "code",
      "source": [
        "from google.colab import userdata\n",
        "from IPython.display import Markdown, display\n",
        "import google.generativeai as genai\n",
        "# 連線至 Gemini\n",
        "genai.configure(api_key=userdata.get('GOOGLE_API_KEY'))\n",
        "# 模型設定\n",
        "generation_config={\n",
        "    \"temperature\":1,\n",
        "    \"max_output_tokens\":1280,\n",
        "}\n",
        "model = genai.GenerativeModel(\n",
        "    model_name = \"gemini-2.0-flash-exp\",\n",
        "    generation_config = generation_config\n",
        ")\n",
        "# 使用連續對話\n",
        "chat = model.start_chat(history=[])\n",
        "while True:\n",
        "  message = input('You:')\n",
        "  if message == 'bye':\n",
        "    break\n",
        "  response = chat.send_message(message)\n",
        "  print('Bot:')\n",
        "  display(Markdown(response.text))\n"
      ],
      "metadata": {
        "colab": {
          "base_uri": "https://localhost:8080/",
          "height": 389
        },
        "id": "c-H5X7G5R317",
        "outputId": "47f3f468-97e9-41b7-de93-8426e5a8fd44"
      },
      "execution_count": 4,
      "outputs": [
        {
          "output_type": "stream",
          "name": "stdout",
          "text": [
            "You:hi\n",
            "Bot:\n"
          ]
        },
        {
          "output_type": "display_data",
          "data": {
            "text/plain": [
              "<IPython.core.display.Markdown object>"
            ],
            "text/markdown": "Hi there! How can I help you today?\n"
          },
          "metadata": {}
        },
        {
          "output_type": "stream",
          "name": "stdout",
          "text": [
            "You:what language do you speak\n",
            "Bot:\n"
          ]
        },
        {
          "output_type": "display_data",
          "data": {
            "text/plain": [
              "<IPython.core.display.Markdown object>"
            ],
            "text/markdown": "I can communicate in many languages. I don't \"speak\" in the same way a human does, but I can understand and generate text in languages including:\n\n*   English (my primary language)\n*   Spanish\n*   French\n*   German\n*   Chinese\n*   Japanese\n*   Korean\n*   Portuguese\n*   Russian\n*   And many more!\n\nI am trained on a massive dataset of text and code, which allows me to understand and respond in a wide variety of languages.\n\nWhich language would you like to communicate in?\n"
          },
          "metadata": {}
        },
        {
          "name": "stdout",
          "output_type": "stream",
          "text": [
            "You:bye\n"
          ]
        }
      ]
    }
  ]
}