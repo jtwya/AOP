{
  "nbformat": 4,
  "nbformat_minor": 0,
  "metadata": {
    "colab": {
      "provenance": [],
      "authorship_tag": "ABX9TyPft3aqmbdK6PdPWk8TeoZy",
      "include_colab_link": true
    },
    "kernelspec": {
      "name": "python3",
      "display_name": "Python 3"
    },
    "language_info": {
      "name": "python"
    }
  },
  "cells": [
    {
      "cell_type": "markdown",
      "metadata": {
        "id": "view-in-github",
        "colab_type": "text"
      },
      "source": [
        "<a href=\"https://colab.research.google.com/github/jtwya/AOP/blob/main/EX01_02_BMI_%E8%A8%88%E7%AE%97.ipynb\" target=\"_parent\"><img src=\"https://colab.research.google.com/assets/colab-badge.svg\" alt=\"Open In Colab\"/></a>"
      ]
    },
    {
      "cell_type": "code",
      "execution_count": 2,
      "metadata": {
        "colab": {
          "base_uri": "https://localhost:8080/"
        },
        "id": "VkDP2sb1K6CQ",
        "outputId": "2921feaa-1dd6-4e66-ba68-e3dfef699c97"
      },
      "outputs": [
        {
          "output_type": "stream",
          "name": "stdout",
          "text": [
            "請輸入身高 (cm): 189\n",
            "請輸入體重 (kg): 70\n",
            "BMI =  19.6\n"
          ]
        }
      ],
      "source": [
        "# 輸入身高 (cm)\n",
        "height = float(input(\"請輸入身高 (cm): \"))\n",
        "# 輸入體重 (kg)\n",
        "weight = float(input(\"請輸入體重 (kg): \"))\n",
        "# 計算 BMI\n",
        "bmi = weight / ((height / 100) ** 2)\n",
        "# 輸出 BMI (四捨五入至小數第一位)\n",
        "print(\"BMI = \", round(bmi,1))"
      ]
    }
  ]
}